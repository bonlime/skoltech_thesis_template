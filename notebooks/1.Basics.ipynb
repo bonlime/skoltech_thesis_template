{
 "cells": [
  {
   "cell_type": "markdown",
   "metadata": {},
   "source": [
    "This notebooks contains code needed to produce visualization used in thesis"
   ]
  },
  {
   "cell_type": "code",
   "execution_count": 1,
   "metadata": {
    "ExecuteTime": {
     "end_time": "2021-04-27T10:35:57.143377Z",
     "start_time": "2021-04-27T10:35:57.135867Z"
    }
   },
   "outputs": [
    {
     "data": {
      "text/html": [
       "<style>.container { width:100% !important; }</style>"
      ],
      "text/plain": [
       "<IPython.core.display.HTML object>"
      ]
     },
     "metadata": {},
     "output_type": "display_data"
    }
   ],
   "source": [
    "from IPython.core.display import display, HTML\n",
    "display(HTML(\"<style>.container { width:100% !important; }</style>\"))"
   ]
  },
  {
   "cell_type": "code",
   "execution_count": 2,
   "metadata": {
    "ExecuteTime": {
     "end_time": "2021-04-27T10:35:58.239336Z",
     "start_time": "2021-04-27T10:35:57.711279Z"
    }
   },
   "outputs": [],
   "source": [
    "import matplotlib.pyplot as plt\n",
    "\n",
    "\n",
    "import torch\n",
    "import torch.autograd.profiler as profiler\n",
    "\n",
    "torch.cuda.benchmark = False\n",
    "count = lambda x: sum([p.numel() for p in x.parameters()])"
   ]
  },
  {
   "cell_type": "code",
   "execution_count": 36,
   "metadata": {
    "ExecuteTime": {
     "end_time": "2021-04-27T11:06:03.163789Z",
     "start_time": "2021-04-27T11:06:03.160799Z"
    }
   },
   "outputs": [],
   "source": [
    "import torch.utils.benchmark as bench"
   ]
  },
  {
   "cell_type": "code",
   "execution_count": 37,
   "metadata": {
    "ExecuteTime": {
     "end_time": "2021-04-27T11:06:06.137274Z",
     "start_time": "2021-04-27T11:06:06.131309Z"
    }
   },
   "outputs": [],
   "source": [
    "bench.Timer?"
   ]
  },
  {
   "cell_type": "code",
   "execution_count": 44,
   "metadata": {
    "ExecuteTime": {
     "end_time": "2021-04-27T11:17:17.669033Z",
     "start_time": "2021-04-27T11:17:13.128428Z"
    }
   },
   "outputs": [
    {
     "data": {
      "text/plain": [
       "147456"
      ]
     },
     "execution_count": 44,
     "metadata": {},
     "output_type": "execute_result"
    }
   ],
   "source": [
    "in_chs, out_chs = 128, 128\n",
    "inp = torch.randn(64, in_chs, 224, 224).cuda().half()\n",
    "conv = torch.nn.Conv2d(in_chs, out_chs, 3, 1, 1, bias=False).cuda().half()\n",
    "\n",
    "# conv = torch.nn.Sequential(\n",
    "#     torch.nn.Conv2d(in_chs, out_chs, 3, 1, 1, bias=False, groups=in_chs),\n",
    "#     torch.nn.Conv2d(in_chs, out_chs, 1, 1, 0, bias=False)\n",
    "# ).cuda().half()\n",
    "\n",
    "\n",
    "conv = conv.eval().requires_grad_(False)\n",
    "for _ in range(100):\n",
    "    conv(inp) # warmup \n",
    "count(conv)"
   ]
  },
  {
   "cell_type": "code",
   "execution_count": 45,
   "metadata": {
    "ExecuteTime": {
     "end_time": "2021-04-27T11:17:20.744584Z",
     "start_time": "2021-04-27T11:17:17.670787Z"
    }
   },
   "outputs": [],
   "source": [
    "with profiler.profile(record_shapes=False, use_cuda=True) as prof:\n",
    "#     with torch.cuda.amp.autocast():\n",
    "    with profiler.record_function(\"single_conv\"):\n",
    "        for _ in range(100):\n",
    "            out = conv(inp)\n",
    "            \n",
    "prof.export_chrome_trace(\"trace.json\")"
   ]
  },
  {
   "cell_type": "code",
   "execution_count": 46,
   "metadata": {
    "ExecuteTime": {
     "end_time": "2021-04-27T11:17:20.758059Z",
     "start_time": "2021-04-27T11:17:20.746737Z"
    }
   },
   "outputs": [
    {
     "name": "stdout",
     "output_type": "stream",
     "text": [
      "---------------------------  ------------  ------------  ------------  ------------  ------------  ------------  ------------  ------------  ------------  ------------  \n",
      "                       Name    Self CPU %      Self CPU   CPU total %     CPU total  CPU time avg     Self CUDA   Self CUDA %    CUDA total  CUDA time avg    # of Calls  \n",
      "---------------------------  ------------  ------------  ------------  ------------  ------------  ------------  ------------  ------------  ------------  ------------  \n",
      "                single_conv         0.29%       2.187ms        99.99%     754.653ms     754.653ms     597.126us         0.04%        1.539s        1.539s             1  \n",
      "               aten::conv2d         0.09%     686.067us        99.70%     752.462ms       7.525ms     557.967us         0.04%        1.539s      15.389ms           100  \n",
      "          aten::convolution         0.09%     652.311us        99.61%     751.776ms       7.518ms     563.865us         0.04%        1.538s      15.383ms           100  \n",
      "         aten::_convolution        13.25%      99.970ms        99.52%     751.123ms       7.511ms     864.129us         0.06%        1.538s      15.378ms           100  \n",
      "    aten::cudnn_convolution        86.06%     649.552ms        86.23%     650.842ms       6.508ms        1.536s        99.77%        1.537s      15.366ms           100  \n",
      "           aten::contiguous         0.12%     912.386us         0.12%     912.386us       3.041us     831.285us         0.05%     831.285us       2.771us           300  \n",
      "                aten::zeros         0.01%      38.528us         0.01%      95.046us      95.046us      54.272us         0.00%      93.184us      93.184us             1  \n",
      "                aten::zero_         0.00%      18.478us         0.01%      38.660us      38.660us      19.456us         0.00%      38.912us      38.912us             1  \n",
      "                aten::fill_         0.00%      20.182us         0.00%      20.182us      20.182us      19.456us         0.00%      19.456us      19.456us             1  \n",
      "                aten::empty         0.06%     467.746us         0.06%     467.746us       2.316us       0.000us         0.00%       0.000us       0.000us           202  \n",
      "---------------------------  ------------  ------------  ------------  ------------  ------------  ------------  ------------  ------------  ------------  ------------  \n",
      "Self CPU time total: 754.748ms\n",
      "CUDA time total: 1.540s\n",
      "\n"
     ]
    }
   ],
   "source": [
    "print(prof.key_averages().table(sort_by=\"cuda_time_total\", row_limit=10))"
   ]
  },
  {
   "cell_type": "code",
   "execution_count": null,
   "metadata": {},
   "outputs": [],
   "source": []
  }
 ],
 "metadata": {
  "kernelspec": {
   "display_name": "Python 3.6.9 64-bit",
   "language": "python",
   "name": "python36964bit9890b48dadda4b3ab35703e845f6f232"
  },
  "language_info": {
   "codemirror_mode": {
    "name": "ipython",
    "version": 3
   },
   "file_extension": ".py",
   "mimetype": "text/x-python",
   "name": "python",
   "nbconvert_exporter": "python",
   "pygments_lexer": "ipython3",
   "version": "3.6.9"
  }
 },
 "nbformat": 4,
 "nbformat_minor": 2
}
